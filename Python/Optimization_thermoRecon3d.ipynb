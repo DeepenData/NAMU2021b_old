{
 "cells": [
  {
   "cell_type": "code",
   "execution_count": 1,
   "metadata": {},
   "outputs": [],
   "source": [
    "#!conda update conda\n",
    "#!pip install update pip\n",
    "#!pip install update cobra\n",
    "#!pip install update pip\n",
    "#!pip install update  joblib \n",
    "#!pip install update  multiprocess\n",
    "#!pip install update networkx\n",
    "#!pip install update  pandas \n",
    "#!pip install update numpy \n",
    "#!pip install update scipy    \n",
    "#normal.reactions.get_by_id(\"PHETHPTOX2\").bounds = (0, 0.0)\n",
    "#normal.reactions.get_by_id(\"r0399\").bounds = (0.0, 0.0)\n",
    "#cobra.io.save_json_model(normal, \"PKU.json\")\n",
    "#model = cobra.io.load_matlab_model('GEM_Recon3_thermocurated_redHUMAN.mat')\n",
    "#cobra.io.save_json_model(model, \"GEM_Recon3_thermocurated_redHUMAN.json\")"
   ]
  },
  {
   "cell_type": "code",
   "execution_count": 49,
   "metadata": {},
   "outputs": [
    {
     "name": "stdout",
     "output_type": "stream",
     "text": [
      "(0.0, 100.0) (0.0, 100.0)\n",
      "(0.0, 0.0) (0.0, 0.0)\n"
     ]
    }
   ],
   "source": [
    "import cobra\n",
    "import numpy as np\n",
    "import warnings \n",
    "warnings.filterwarnings(\"ignore\")\n",
    "normal = cobra.io.load_json_model(\"GEM_Recon3_thermocurated_redHUMAN.json\")\n",
    "pku    = cobra.io.load_json_model(\"PKU.json\")\n",
    "rxn_ids_list     = [normal.reactions[i].id  for i in range(0,len(normal.reactions))]\n",
    "met_ids_list     = [normal.metabolites[i].id  for i in range(0,len(normal.metabolites))]\n",
    "rxn_names_list   = [normal.reactions[i].name  for i in range(0,len(normal.reactions))]\n",
    "met_names_list   = [normal.metabolites[i].name  for i in range(0,len(normal.metabolites))]\n",
    "\n",
    "print(\n",
    "normal.reactions.get_by_id(\"PHETHPTOX2\").bounds, \n",
    "normal.reactions.get_by_id(\"r0399\").bounds) \n",
    "print(\n",
    "pku.reactions.get_by_id(\"PHETHPTOX2\").bounds, \n",
    "pku.reactions.get_by_id(\"r0399\").bounds) "
   ]
  },
  {
   "cell_type": "code",
   "execution_count": 70,
   "metadata": {},
   "outputs": [
    {
     "data": {
      "text/plain": [
       "'TYRATB0tc'"
      ]
     },
     "execution_count": 70,
     "metadata": {},
     "output_type": "execute_result"
    }
   ],
   "source": [
    "#normal.metabolites.get_by_id(\"phe_L_e\").reactions\n",
    "frozen = normal.metabolites.get_by_id(\"tyr_L_e\").reactions\n",
    "\n",
    "list(frozen)[0].id\n"
   ]
  },
  {
   "cell_type": "markdown",
   "metadata": {},
   "source": [
    "normal.reactions.get_by_id(\"TYRt\").bounds = (0, 0)\n",
    "normal.reactions.get_by_id(\"TYRt4\").bounds = (0, 0)\n",
    "normal.reactions.get_by_id(\"r1549\").bounds = (0, 0)\n",
    "normal.reactions.get_by_id(\"r1563\").bounds = (0, 0)\n",
    "normal.reactions.get_by_id(\"r1576\").bounds = (0, 0)\n",
    "normal.reactions.get_by_id(\"r1588\").bounds = (0, 0)\n",
    "normal.reactions.get_by_id(\"r1599\").bounds = (0, 0)\n"
   ]
  },
  {
   "cell_type": "code",
   "execution_count": 52,
   "metadata": {},
   "outputs": [
    {
     "name": "stdout",
     "output_type": "stream",
     "text": [
      "PHETHPTOX2    0.0\n",
      "r0399         0.0\n",
      "TYRt          0.0\n",
      "TYRt4         0.0\n",
      "r1549         0.0\n",
      "r1563         0.0\n",
      "r1576         0.0\n",
      "r1588         0.0\n",
      "r1599         0.0\n",
      "Name: fluxes, dtype: float64\n",
      "PHETHPTOX2    0.0\n",
      "r0399         0.0\n",
      "TYRt          0.0\n",
      "TYRt4         0.0\n",
      "r1549         0.0\n",
      "r1563         0.0\n",
      "r1576         0.0\n",
      "r1588         0.0\n",
      "r1599         0.0\n",
      "Name: fluxes, dtype: float64\n"
     ]
    }
   ],
   "source": [
    "sol_normal = normal.optimize()\n",
    "sol_pku    = pku.optimize()\n",
    "\n",
    "tyrosine_fluxes = ['PHETHPTOX2','r0399','TYRt', 'TYRt4', 'r1549', 'r1563', 'r1576', 'r1588', 'r1599']\n",
    "print( sol_pku[tyrosine_fluxes] )\n",
    "print( sol_normal[tyrosine_fluxes])"
   ]
  },
  {
   "cell_type": "code",
   "execution_count": 31,
   "metadata": {},
   "outputs": [],
   "source": [
    "\n",
    "dual_normal     =  sol_normal.shadow_prices.values.reshape(len(met_ids_list),1).flatten()\n",
    "fluxes_normal   =  sol_normal.fluxes.values.reshape(len(rxn_ids_list),1).flatten()\n",
    "reduced_normal  =  sol_normal.reduced_costs.values.reshape(len(rxn_ids_list),1).flatten()\n",
    "\n",
    "dual_pku     =  sol_pku.shadow_prices.values.reshape(len(met_ids_list),1).flatten()\n",
    "fluxes_pku   =  sol_pku.fluxes.values.reshape(len(rxn_ids_list),1).flatten()\n",
    "reduced_pku  = sol_pku.reduced_costs.values.reshape(len(rxn_ids_list),1).flatten()\n"
   ]
  },
  {
   "cell_type": "markdown",
   "metadata": {},
   "source": [
    "### the nine amino acids humans cannot synthesize are phenylalanine, valine, threonine, tryptophan, methionine, leucine, isoleucine, lysine, and histidine."
   ]
  },
  {
   "cell_type": "code",
   "execution_count": null,
   "metadata": {},
   "outputs": [],
   "source": []
  },
  {
   "cell_type": "code",
   "execution_count": null,
   "metadata": {},
   "outputs": [],
   "source": []
  },
  {
   "cell_type": "code",
   "execution_count": 71,
   "metadata": {},
   "outputs": [],
   "source": [
    "import pandas as pd    \n",
    "\n",
    "list_of_tuples   = list(zip(met_ids_list, met_names_list, dual))  \n",
    "columns          = [\"Metabolite ID\",\"Metabolite Name\",\"Dual solution\"]\n",
    "dual_solution    = pd.DataFrame(list_of_tuples, columns = columns)  \n",
    "list_of_tuples   = list(zip(rxn_ids_list,rxn_names_list,fluxes,reduced ))  \n",
    "columns          = [\"Reaction ID\",\"Reaction Name\",\"Flux\",\"Reduced Cost\"]\n",
    "primal_solution  = pd.DataFrame(list_of_tuples, columns = columns)  \n",
    "\n",
    "dual_solution.to_csv('dual_solution.csv')\n",
    "primal_solution.to_csv('primal_solution.csv')"
   ]
  },
  {
   "cell_type": "code",
   "execution_count": 60,
   "metadata": {},
   "outputs": [
    {
     "data": {
      "text/html": [
       "<div>\n",
       "<style scoped>\n",
       "    .dataframe tbody tr th:only-of-type {\n",
       "        vertical-align: middle;\n",
       "    }\n",
       "\n",
       "    .dataframe tbody tr th {\n",
       "        vertical-align: top;\n",
       "    }\n",
       "\n",
       "    .dataframe thead th {\n",
       "        text-align: right;\n",
       "    }\n",
       "</style>\n",
       "<table border=\"1\" class=\"dataframe\">\n",
       "  <thead>\n",
       "    <tr style=\"text-align: right;\">\n",
       "      <th></th>\n",
       "      <th>0</th>\n",
       "      <th>1</th>\n",
       "      <th>2</th>\n",
       "    </tr>\n",
       "  </thead>\n",
       "  <tbody>\n",
       "    <tr>\n",
       "      <th>0</th>\n",
       "      <td>10fthf5glu_c</td>\n",
       "      <td>10-Formyltetrahydrofolate-[Glu](5)</td>\n",
       "      <td>-1.734058e-17</td>\n",
       "    </tr>\n",
       "    <tr>\n",
       "      <th>1</th>\n",
       "      <td>10fthf5glu_l</td>\n",
       "      <td>10-Formyltetrahydrofolate-[Glu](5)</td>\n",
       "      <td>-1.734058e-17</td>\n",
       "    </tr>\n",
       "    <tr>\n",
       "      <th>2</th>\n",
       "      <td>10fthf5glu_m</td>\n",
       "      <td>10-Formyltetrahydrofolate-[Glu](5)</td>\n",
       "      <td>0.000000e+00</td>\n",
       "    </tr>\n",
       "    <tr>\n",
       "      <th>3</th>\n",
       "      <td>10fthf6glu_c</td>\n",
       "      <td>10-Formyltetrahydrofolate-[Glu](6)</td>\n",
       "      <td>0.000000e+00</td>\n",
       "    </tr>\n",
       "    <tr>\n",
       "      <th>4</th>\n",
       "      <td>10fthf6glu_l</td>\n",
       "      <td>10-Formyltetrahydrofolate-[Glu](6)</td>\n",
       "      <td>0.000000e+00</td>\n",
       "    </tr>\n",
       "    <tr>\n",
       "      <th>...</th>\n",
       "      <td>...</td>\n",
       "      <td>...</td>\n",
       "      <td>...</td>\n",
       "    </tr>\n",
       "    <tr>\n",
       "      <th>5830</th>\n",
       "      <td>caproic_e</td>\n",
       "      <td>Caproic Acid</td>\n",
       "      <td>0.000000e+00</td>\n",
       "    </tr>\n",
       "    <tr>\n",
       "      <th>5831</th>\n",
       "      <td>1a25dhvitd2_c</td>\n",
       "      <td>1-Alpha,25-Dihydroxyvitamin D2</td>\n",
       "      <td>0.000000e+00</td>\n",
       "    </tr>\n",
       "    <tr>\n",
       "      <th>5832</th>\n",
       "      <td>1a25dhvitd2_e</td>\n",
       "      <td>1-Alpha,25-Dihydroxyvitamin D2</td>\n",
       "      <td>0.000000e+00</td>\n",
       "    </tr>\n",
       "    <tr>\n",
       "      <th>5833</th>\n",
       "      <td>protein_c</td>\n",
       "      <td>Torasemide-M3</td>\n",
       "      <td>3.719474e-16</td>\n",
       "    </tr>\n",
       "    <tr>\n",
       "      <th>5834</th>\n",
       "      <td>h_i</td>\n",
       "      <td>Proton</td>\n",
       "      <td>-6.158245e-18</td>\n",
       "    </tr>\n",
       "  </tbody>\n",
       "</table>\n",
       "<p>5835 rows × 3 columns</p>\n",
       "</div>"
      ],
      "text/plain": [
       "                  0                                   1             2\n",
       "0      10fthf5glu_c  10-Formyltetrahydrofolate-[Glu](5) -1.734058e-17\n",
       "1      10fthf5glu_l  10-Formyltetrahydrofolate-[Glu](5) -1.734058e-17\n",
       "2      10fthf5glu_m  10-Formyltetrahydrofolate-[Glu](5)  0.000000e+00\n",
       "3      10fthf6glu_c  10-Formyltetrahydrofolate-[Glu](6)  0.000000e+00\n",
       "4      10fthf6glu_l  10-Formyltetrahydrofolate-[Glu](6)  0.000000e+00\n",
       "...             ...                                 ...           ...\n",
       "5830      caproic_e                        Caproic Acid  0.000000e+00\n",
       "5831  1a25dhvitd2_c      1-Alpha,25-Dihydroxyvitamin D2  0.000000e+00\n",
       "5832  1a25dhvitd2_e      1-Alpha,25-Dihydroxyvitamin D2  0.000000e+00\n",
       "5833      protein_c                       Torasemide-M3  3.719474e-16\n",
       "5834            h_i                              Proton -6.158245e-18\n",
       "\n",
       "[5835 rows x 3 columns]"
      ]
     },
     "execution_count": 60,
     "metadata": {},
     "output_type": "execute_result"
    }
   ],
   "source": []
  },
  {
   "cell_type": "code",
   "execution_count": 3,
   "metadata": {},
   "outputs": [
    {
     "data": {
      "text/html": [
       "\n",
       "        <table>\n",
       "            <tr>\n",
       "                <td><strong>Reaction identifier</strong></td><td>ALDH1L1</td>\n",
       "            </tr><tr>\n",
       "                <td><strong>Name</strong></td><td>ALDH1L1</td>\n",
       "            </tr><tr>\n",
       "                <td><strong>Memory address</strong></td>\n",
       "                <td>0x07f8c0209a8b0</td>\n",
       "            </tr><tr>\n",
       "                <td><strong>Stoichiometry</strong></td>\n",
       "                <td>\n",
       "                    <p style='text-align:right'>10fthf[mA] + h2o[mA] + nadp[mA] --> co2[mA] + h[mA] + nadph[mA] + thf[mA]</p>\n",
       "                    <p style='text-align:right'>10-Formyltetrahydrofolate + H2O + Nicotinamide adenine dinucleotide phosphate --> CO2 + H+ + Nicotinamide adenine dinucleotide phosphate - reduced + 5,6,7,8-Tetrahydrofolate</p>\n",
       "                </td>\n",
       "            </tr><tr>\n",
       "                <td><strong>GPR</strong></td><td></td>\n",
       "            </tr><tr>\n",
       "                <td><strong>Lower bound</strong></td><td>0.0</td>\n",
       "            </tr><tr>\n",
       "                <td><strong>Upper bound</strong></td><td>1000.0</td>\n",
       "            </tr>\n",
       "        </table>\n",
       "        "
      ],
      "text/plain": [
       "<Reaction ALDH1L1 at 0x7f8c0209a8b0>"
      ]
     },
     "execution_count": 3,
     "metadata": {},
     "output_type": "execute_result"
    }
   ],
   "source": [
    "from cobra import Model, Reaction, Metabolite\n",
    "ALDH1L1 = Reaction('ALDH1L1')\n",
    "ALDH1L1.name = 'ALDH1L1'\n",
    "#ALDH1L1.subsystem = ''\n",
    "ALDH1L1.lower_bound = 0.  # This is the default\n",
    "ALDH1L1.upper_bound = 1000.  # This is the default\n",
    "\n",
    "ALDH1L1.add_metabolites({\n",
    "    stimulated.metabolites.get_by_id('10fthf[mA]') : -1.0,\n",
    "    stimulated.metabolites.get_by_id('h2o[mA]')    : -1.0,\n",
    "    stimulated.metabolites.get_by_id('nadp[mA]')   : -1.0,\n",
    "    stimulated.metabolites.get_by_id('co2[mA]'): 1.0,\n",
    "    stimulated.metabolites.get_by_id('nadph[mA]'): 1.0,\n",
    "    stimulated.metabolites.get_by_id('h[mA]'): 1.0,\n",
    "    stimulated.metabolites.get_by_id('thf[mA]'): 1.0\n",
    "})\n",
    "\n",
    "stimulated.add_reactions([ALDH1L1])\n",
    "stimulated.reactions.get_by_id('ALDH1L1')"
   ]
  },
  {
   "cell_type": "code",
   "execution_count": 4,
   "metadata": {},
   "outputs": [],
   "source": [
    "#Build metabolite list\n",
    "mets = []\n",
    "for i in range(0,len(stimulated.metabolites)):\n",
    "  mets.append(stimulated.metabolites[i].id )\n",
    "#Build reaction list\n",
    "rxns = []\n",
    "for i in range(0,len(stimulated.reactions)):\n",
    "  rxns.append(stimulated.reactions[i].id )\n",
    "rxn_names = []\n",
    "for i in range(0,len(stimulated.reactions)):\n",
    "  rxn_names.append(stimulated.reactions[i].name )\n",
    "rxn_formulas = []\n",
    "for i in range(0,len(stimulated.reactions)):\n",
    "  rxn_formulas.append(stimulated.reactions[i].reaction )\n",
    "subsystems = []\n",
    "for i in range(0,len(stimulated.reactions)):\n",
    "  subsystems.append(stimulated.reactions[i].subsystem )\n",
    "from   cobra.util.array import create_stoichiometric_matrix\n",
    "S_matrix = create_stoichiometric_matrix(stimulated)\n",
    "import re\n",
    "energy_core = np.array([i for i, item in enumerate(subsystems) if re.search('xidative.*p?ho', item)])\n",
    "energy_core_names   = np.array([rxns[i] for i in energy_core])\n",
    "idx_neuron_oxphos_0 = np.array([i for i, item in enumerate(energy_core_names) if re.search('euron', item)])\n",
    "oxphos_astro_idxs  = np.array(energy_core[~idx_neuron_oxphos_0])\n",
    "oxphos_neuron_idxs = np.array(energy_core[idx_neuron_oxphos_0])\n",
    "glycolysis = np.array([i for i, item in enumerate(subsystems) if re.search('.*g?lycolysi?s.*', item)])\n",
    "glycolysis_names   = np.array([rxns[i] for i in glycolysis])\n",
    "idx_neuron_glycolysis_0 = np.array([i for i, item in enumerate(glycolysis_names) if re.search('Neuron', item)])\n",
    "glycolysis_astro_idxs  = np.array(glycolysis[~idx_neuron_glycolysis_0])[1:]\n",
    "glycolysis_neuron_idxs = np.array(glycolysis[idx_neuron_glycolysis_0])\n",
    "carbon_energy = np.concatenate((oxphos_astro_idxs, oxphos_neuron_idxs, glycolysis_astro_idxs, glycolysis_neuron_idxs), axis=0)"
   ]
  },
  {
   "cell_type": "code",
   "execution_count": 5,
   "metadata": {},
   "outputs": [
    {
     "name": "stdout",
     "output_type": "stream",
     "text": [
      "{<Reaction L-LACt2r_Int at 0x7f8c87e25f70>: -1.0, <Reaction GLNtN1_Int at 0x7f8c87e35d60>: -1.05, <Reaction GLUVESSEC_Neuron at 0x7f8c87d3b190>: 1.0, <Reaction L-LACt2r_Neuron at 0x7f8c87d4c9d0>: 1.0, <Reaction NaKt_Neuron at 0x7f8c87d6c790>: 1.0}\n",
      "NaEX_Neuron 346.771800000002\n",
      "NaKt_Neuron 116.99820000000066\n",
      "DM_atp(c)_Neuron 33.78\n",
      "L-LACt2r_Int -7.037999999999977\n",
      "L-LACt2r_Neuron 7.037999999999977\n",
      "GLUVESSEC_Neuron 4.222800000000003\n",
      "GLNtN1_Int -4.222800000000003\n",
      "ATPS4m_Neuron 151.23640000000063\n",
      "ATPS4m -1.8409516335602595e-14\n",
      "GLCt1r 3.519\n",
      "GLCt1r_Neuron 1.8823\n",
      "EX_o2(e) -32.40780000000017\n"
     ]
    }
   ],
   "source": [
    "from cobra.util.solver import linear_reaction_coefficients\n",
    "print(linear_reaction_coefficients(stimulated))\n",
    "R_sol = stimulated.optimize()\n",
    "print('NaEX_Neuron', R_sol.fluxes[rxns.index('NaEX_Neuron')])\n",
    "print('NaKt_Neuron',R_sol.fluxes[rxns.index('NaKt_Neuron')])\n",
    "print('DM_atp(c)_Neuron', R_sol.fluxes[rxns.index('DM_atp(c)_Neuron')])\n",
    "print('L-LACt2r_Int', R_sol.fluxes[rxns.index('L-LACt2r_Int')])\n",
    "print('L-LACt2r_Neuron', R_sol.fluxes[rxns.index('L-LACt2r_Neuron')])\n",
    "print('GLUVESSEC_Neuron', R_sol.fluxes[rxns.index('GLUVESSEC_Neuron')])\n",
    "print('GLNtN1_Int', R_sol.fluxes[rxns.index('GLNtN1_Int')])\n",
    "print('ATPS4m_Neuron', R_sol.fluxes[rxns.index('ATPS4m_Neuron')])\n",
    "print('ATPS4m', R_sol.fluxes[rxns.index('ATPS4m')])\n",
    "print('GLCt1r', R_sol.fluxes[rxns.index('GLCt1r')])\n",
    "print('GLCt1r_Neuron', R_sol.fluxes[rxns.index('GLCt1r_Neuron')])\n",
    "print('EX_o2(e)', R_sol.fluxes[rxns.index('EX_o2(e)')])"
   ]
  },
  {
   "cell_type": "code",
   "execution_count": 6,
   "metadata": {},
   "outputs": [],
   "source": [
    "rxn_names = np.array(rxn_names).flatten()\n",
    "rxn_formulas = np.array(rxn_formulas).flatten()\n",
    "\n",
    "rxns2 =  np.array(rxns).flatten()\n"
   ]
  },
  {
   "cell_type": "code",
   "execution_count": 7,
   "metadata": {},
   "outputs": [
    {
     "data": {
      "text/html": [
       "<div>\n",
       "<style scoped>\n",
       "    .dataframe tbody tr th:only-of-type {\n",
       "        vertical-align: middle;\n",
       "    }\n",
       "\n",
       "    .dataframe tbody tr th {\n",
       "        vertical-align: top;\n",
       "    }\n",
       "\n",
       "    .dataframe thead th {\n",
       "        text-align: right;\n",
       "    }\n",
       "</style>\n",
       "<table border=\"1\" class=\"dataframe\">\n",
       "  <thead>\n",
       "    <tr style=\"text-align: right;\">\n",
       "      <th></th>\n",
       "      <th>idx</th>\n",
       "      <th>bounds</th>\n",
       "      <th>formula</th>\n",
       "      <th>name</th>\n",
       "      <th>flux</th>\n",
       "    </tr>\n",
       "  </thead>\n",
       "  <tbody>\n",
       "    <tr>\n",
       "      <th>EX_glc(e)</th>\n",
       "      <td>32</td>\n",
       "      <td>(-1000.0, 0.0)</td>\n",
       "      <td>glc-D[e] &lt;--</td>\n",
       "      <td>EX_glc(e)</td>\n",
       "      <td>-5.4013</td>\n",
       "    </tr>\n",
       "    <tr>\n",
       "      <th>GLCt1r</th>\n",
       "      <td>292</td>\n",
       "      <td>(3.519, 3.519)</td>\n",
       "      <td>glc-D[e] --&gt; glc-D[cA]</td>\n",
       "      <td>GLCt1r</td>\n",
       "      <td>3.5190</td>\n",
       "    </tr>\n",
       "    <tr>\n",
       "      <th>GLCt2r</th>\n",
       "      <td>293</td>\n",
       "      <td>(0.0, 0.0)</td>\n",
       "      <td>glc-D[e] + h[e] --&gt; glc-D[cA] + h[cA]</td>\n",
       "      <td>GLCt2r</td>\n",
       "      <td>0.0000</td>\n",
       "    </tr>\n",
       "    <tr>\n",
       "      <th>GLCt2r_Int</th>\n",
       "      <td>557</td>\n",
       "      <td>(0.0, 0.0)</td>\n",
       "      <td>glc-D[I] + h[I] --&gt; glc-D[cA] + h[cA]</td>\n",
       "      <td>GLCt2r_Int</td>\n",
       "      <td>0.0000</td>\n",
       "    </tr>\n",
       "    <tr>\n",
       "      <th>GLCt1r_Neuron</th>\n",
       "      <td>1063</td>\n",
       "      <td>(1.8823, 1.8823)</td>\n",
       "      <td>glc-D[e] --&gt; glc-D[cN]</td>\n",
       "      <td>GLCt1r_Neuron</td>\n",
       "      <td>1.8823</td>\n",
       "    </tr>\n",
       "  </tbody>\n",
       "</table>\n",
       "</div>"
      ],
      "text/plain": [
       "                idx            bounds                                formula  \\\n",
       "EX_glc(e)        32    (-1000.0, 0.0)                          glc-D[e] <--    \n",
       "GLCt1r          292    (3.519, 3.519)                 glc-D[e] --> glc-D[cA]   \n",
       "GLCt2r          293        (0.0, 0.0)  glc-D[e] + h[e] --> glc-D[cA] + h[cA]   \n",
       "GLCt2r_Int      557        (0.0, 0.0)  glc-D[I] + h[I] --> glc-D[cA] + h[cA]   \n",
       "GLCt1r_Neuron  1063  (1.8823, 1.8823)                 glc-D[e] --> glc-D[cN]   \n",
       "\n",
       "                        name    flux  \n",
       "EX_glc(e)          EX_glc(e) -5.4013  \n",
       "GLCt1r                GLCt1r  3.5190  \n",
       "GLCt2r                GLCt2r  0.0000  \n",
       "GLCt2r_Int        GLCt2r_Int  0.0000  \n",
       "GLCt1r_Neuron  GLCt1r_Neuron  1.8823  "
      ]
     },
     "execution_count": 7,
     "metadata": {},
     "output_type": "execute_result"
    }
   ],
   "source": [
    "import pandas as pd\n",
    "glc = np.array([i for i, item in enumerate(rxns2) if re.search('GLC|glc', item)])                            \n",
    "glc_bounds = []\n",
    "for i in range(0,len(glc)):\n",
    "    glc_bounds.append(stimulated.reactions[glc[i]].bounds)  \n",
    "\n",
    "d = {'idx': glc, 'bounds': glc_bounds, 'formula': rxn_formulas[glc],  'name': rxns2[glc], 'flux': R_sol.fluxes[glc]}\n",
    "df = pd.DataFrame(data=d)\n",
    "df"
   ]
  },
  {
   "cell_type": "code",
   "execution_count": 8,
   "metadata": {},
   "outputs": [
    {
     "data": {
      "text/html": [
       "<div>\n",
       "<style scoped>\n",
       "    .dataframe tbody tr th:only-of-type {\n",
       "        vertical-align: middle;\n",
       "    }\n",
       "\n",
       "    .dataframe tbody tr th {\n",
       "        vertical-align: top;\n",
       "    }\n",
       "\n",
       "    .dataframe thead th {\n",
       "        text-align: right;\n",
       "    }\n",
       "</style>\n",
       "<table border=\"1\" class=\"dataframe\">\n",
       "  <thead>\n",
       "    <tr style=\"text-align: right;\">\n",
       "      <th></th>\n",
       "      <th>idx</th>\n",
       "      <th>bounds</th>\n",
       "      <th>formula</th>\n",
       "      <th>name</th>\n",
       "      <th>flux</th>\n",
       "    </tr>\n",
       "  </thead>\n",
       "  <tbody>\n",
       "    <tr>\n",
       "      <th>EX_o2(e)</th>\n",
       "      <td>49</td>\n",
       "      <td>(-1000.0, 0.0)</td>\n",
       "      <td>o2[e] &lt;--</td>\n",
       "      <td>EX_o2(e)</td>\n",
       "      <td>-3.240780e+01</td>\n",
       "    </tr>\n",
       "    <tr>\n",
       "      <th>O2t</th>\n",
       "      <td>394</td>\n",
       "      <td>(-1000.0, 1000.0)</td>\n",
       "      <td>o2[e] &lt;=&gt; o2[cA]</td>\n",
       "      <td>O2t</td>\n",
       "      <td>3.240780e+01</td>\n",
       "    </tr>\n",
       "    <tr>\n",
       "      <th>O2tm</th>\n",
       "      <td>395</td>\n",
       "      <td>(-1000.0, 1000.0)</td>\n",
       "      <td>o2[cA] &lt;=&gt; o2[mA]</td>\n",
       "      <td>O2tm</td>\n",
       "      <td>3.051488e-14</td>\n",
       "    </tr>\n",
       "    <tr>\n",
       "      <th>O2t_Int</th>\n",
       "      <td>572</td>\n",
       "      <td>(-1000.0, 1000.0)</td>\n",
       "      <td>o2[I] &lt;=&gt; o2[cA]</td>\n",
       "      <td>O2t_Int</td>\n",
       "      <td>-3.240780e+01</td>\n",
       "    </tr>\n",
       "    <tr>\n",
       "      <th>O2t_Neuron</th>\n",
       "      <td>931</td>\n",
       "      <td>(-1000.0, 1000.0)</td>\n",
       "      <td>o2[I] &lt;=&gt; o2[cN]</td>\n",
       "      <td>O2t_Neuron</td>\n",
       "      <td>3.240780e+01</td>\n",
       "    </tr>\n",
       "    <tr>\n",
       "      <th>O2tm_Neuron</th>\n",
       "      <td>932</td>\n",
       "      <td>(-1000.0, 1000.0)</td>\n",
       "      <td>o2[cN] &lt;=&gt; o2[mN]</td>\n",
       "      <td>O2tm_Neuron</td>\n",
       "      <td>3.240780e+01</td>\n",
       "    </tr>\n",
       "  </tbody>\n",
       "</table>\n",
       "</div>"
      ],
      "text/plain": [
       "             idx             bounds            formula         name  \\\n",
       "EX_o2(e)      49     (-1000.0, 0.0)         o2[e] <--      EX_o2(e)   \n",
       "O2t          394  (-1000.0, 1000.0)   o2[e] <=> o2[cA]          O2t   \n",
       "O2tm         395  (-1000.0, 1000.0)  o2[cA] <=> o2[mA]         O2tm   \n",
       "O2t_Int      572  (-1000.0, 1000.0)   o2[I] <=> o2[cA]      O2t_Int   \n",
       "O2t_Neuron   931  (-1000.0, 1000.0)   o2[I] <=> o2[cN]   O2t_Neuron   \n",
       "O2tm_Neuron  932  (-1000.0, 1000.0)  o2[cN] <=> o2[mN]  O2tm_Neuron   \n",
       "\n",
       "                     flux  \n",
       "EX_o2(e)    -3.240780e+01  \n",
       "O2t          3.240780e+01  \n",
       "O2tm         3.051488e-14  \n",
       "O2t_Int     -3.240780e+01  \n",
       "O2t_Neuron   3.240780e+01  \n",
       "O2tm_Neuron  3.240780e+01  "
      ]
     },
     "execution_count": 8,
     "metadata": {},
     "output_type": "execute_result"
    }
   ],
   "source": [
    "o2 = np.array([i for i, item in enumerate(rxn_names) if re.search('^(o|O)2', item)]).flatten()                            \n",
    "o2_bounds = []\n",
    "for i in range(0,len(o2)):\n",
    "    o2_bounds.append(stimulated.reactions[o2[i]].bounds)        \n",
    "d = {'idx': o2, 'bounds': o2_bounds, 'formula': rxn_formulas[o2], 'name': rxns2[o2], 'flux': R_sol.fluxes[o2]}\n",
    "df = pd.DataFrame(data=d)\n",
    "df"
   ]
  },
  {
   "cell_type": "code",
   "execution_count": 9,
   "metadata": {},
   "outputs": [],
   "source": [
    "#GLCt1r \t    292 \t(3.519, 3.519) \tglc-D[e] --> glc-D[cA] \tGLCt1r \t3.5190\n",
    "#EX_o2(e) \t49 \t(-1000.0, 0.0) \to2[e] <-- \tEX_o2(e) \t-3.240780e+01"
   ]
  },
  {
   "cell_type": "code",
   "execution_count": 10,
   "metadata": {},
   "outputs": [],
   "source": [
    "stimulated.reactions.get_by_id(\"EX_o2(e)\").bounds = (-9999.0, 0.0)\n",
    "stimulated.reactions.get_by_id(\"GLCt1r\").bounds = (0, 5.519)"
   ]
  },
  {
   "cell_type": "code",
   "execution_count": 11,
   "metadata": {},
   "outputs": [
    {
     "name": "stdout",
     "output_type": "stream",
     "text": [
      "NaEX_Neuron 505.1718000000035\n",
      "NaKt_Neuron 170.59820000000147\n",
      "DM_atp(c)_Neuron 33.78\n",
      "L-LACt2r_Int -11.037999999999956\n",
      "L-LACt2r_Neuron 11.037999999999956\n",
      "GLUVESSEC_Neuron 6.622800000000957\n",
      "GLNtN1_Int -6.622800000000957\n",
      "ATPS4m_Neuron 207.23640000000245\n",
      "ATPS4m 1.5436393489749343e-12\n",
      "GLCt1r 5.519\n",
      "GLCt1r_Neuron 1.8823\n",
      "EX_o2(e) -44.407800000001075\n"
     ]
    }
   ],
   "source": [
    "R_sol = stimulated.optimize()\n",
    "print('NaEX_Neuron', R_sol.fluxes[rxns.index('NaEX_Neuron')])\n",
    "print('NaKt_Neuron',R_sol.fluxes[rxns.index('NaKt_Neuron')])\n",
    "print('DM_atp(c)_Neuron', R_sol.fluxes[rxns.index('DM_atp(c)_Neuron')])\n",
    "print('L-LACt2r_Int', R_sol.fluxes[rxns.index('L-LACt2r_Int')])\n",
    "print('L-LACt2r_Neuron', R_sol.fluxes[rxns.index('L-LACt2r_Neuron')])\n",
    "print('GLUVESSEC_Neuron', R_sol.fluxes[rxns.index('GLUVESSEC_Neuron')])\n",
    "print('GLNtN1_Int', R_sol.fluxes[rxns.index('GLNtN1_Int')])\n",
    "print('ATPS4m_Neuron', R_sol.fluxes[rxns.index('ATPS4m_Neuron')])\n",
    "print('ATPS4m', R_sol.fluxes[rxns.index('ATPS4m')])\n",
    "print('GLCt1r', R_sol.fluxes[rxns.index('GLCt1r')])\n",
    "print('GLCt1r_Neuron', R_sol.fluxes[rxns.index('GLCt1r_Neuron')])\n",
    "print('EX_o2(e)', R_sol.fluxes[rxns.index('EX_o2(e)')])"
   ]
  },
  {
   "cell_type": "code",
   "execution_count": 12,
   "metadata": {},
   "outputs": [],
   "source": [
    "intervals= 40 \n",
    "glucose  = np.unique(np.concatenate((np.linspace(1, 3.519, num=intervals, endpoint=True), np.linspace(3.519, 2*3.519, num=intervals, endpoint=True))))\n",
    "oxygen   = np.flip(np.unique(-1*np.concatenate((np.linspace(10, 3.240780e+01, num=intervals, endpoint=True), np.linspace(3.240780e+01, 2*3.240780e+01, num=intervals, endpoint=True)))))\n",
    "stimulated.reactions.get_by_id(\"EX_o2(e)\").bounds = (0, 1000.0)\n",
    "stimulated.reactions.get_by_id(\"GLCt1r\").bounds = (-1000.0, 0.0)\n",
    "l                   = len(glucose)\n",
    "NaEX_Neuron         =  np.zeros((l,l)) \n",
    "NaKt_Neuron         =  np.zeros((l,l)) \n",
    "L_LACt2r_Int        =  np.zeros((l,l)) \n",
    "L_LACt2r_Neuron     =  np.zeros((l,l)) \n",
    "GLUVESSEC_Neuron    =  np.zeros((l,l)) \n",
    "GLNtN1_Int          =  np.zeros((l,l)) \n",
    "ATPS4m_Neuron       =  np.zeros((l,l)) \n",
    "ATPS4m              =  np.zeros((l,l)) \n",
    "GLCt1r              =  np.zeros((l,l)) \n",
    "GLCt1r_Neuron       =  np.zeros((l,l)) \n",
    "EX_o2_e             =  np.zeros((l,l)) \n",
    "for i in range(0,l):\n",
    "    for j in range(0,l):\n",
    "        stimulated.reactions.get_by_id(\"EX_o2(e)\").bounds = (oxygen[i],0)\n",
    "        stimulated.reactions.get_by_id(\"GLCt1r\").bounds   = (glucose[j],glucose[j])        \n",
    "        sol              = stimulated.optimize()        \n",
    "        NaEX_Neuron[i,j]      =sol.fluxes[rxns.index('NaEX_Neuron')] \n",
    "        NaKt_Neuron[i,j]      =sol.fluxes[rxns.index('NaKt_Neuron')]\n",
    "        L_LACt2r_Int[i,j]     =sol.fluxes[rxns.index('L-LACt2r_Int')]\n",
    "        L_LACt2r_Neuron[i,j]  =sol.fluxes[rxns.index('L-LACt2r_Neuron')]\n",
    "        GLUVESSEC_Neuron[i,j] =sol.fluxes[rxns.index('GLUVESSEC_Neuron')]\n",
    "        GLNtN1_Int[i,j]       =sol.fluxes[rxns.index('GLNtN1_Int')]\n",
    "        ATPS4m_Neuron[i,j]    =sol.fluxes[rxns.index('ATPS4m_Neuron')]\n",
    "        ATPS4m[i,j]           =sol.fluxes[rxns.index('ATPS4m')]\n",
    "        GLCt1r[i,j]           =sol.fluxes[rxns.index('GLCt1r')]\n",
    "        GLCt1r_Neuron[i,j]    =sol.fluxes[rxns.index('GLCt1r_Neuron')]\n",
    "        EX_o2_e[i,j]          =sol.fluxes[rxns.index('EX_o2(e)')]"
   ]
  },
  {
   "cell_type": "code",
   "execution_count": 13,
   "metadata": {},
   "outputs": [
    {
     "data": {
      "text/plain": [
       "(116.99819999999994, 7.038000000000007, 4.222800000000013, 5.999999999999999)"
      ]
     },
     "execution_count": 13,
     "metadata": {},
     "output_type": "execute_result"
    }
   ],
   "source": [
    "NaEX_Neuron[39][39],EX_o2_e[39][39], (GLCt1r_Neuron[39][39]+GLCt1r[39][39]), ATPS4m_Neuron[39][39]\n",
    "\n",
    "\n",
    "NaKt_Neuron[39][39], L_LACt2r_Neuron[39][39] , GLUVESSEC_Neuron[39][39], -1*EX_o2_e[39][39]/(GLCt1r_Neuron[39][39]+GLCt1r[39][39])"
   ]
  },
  {
   "cell_type": "code",
   "execution_count": 63,
   "metadata": {},
   "outputs": [
    {
     "data": {
      "image/png": "[encoded data removed]",
      "text/plain": [
       "<Figure size 1800x216 with 8 Axes>"
      ]
     },
     "metadata": {
      "needs_background": "light"
     },
     "output_type": "display_data"
    }
   ],
   "source": [
    "import numpy as np\n",
    "import matplotlib.pyplot as plt\n",
    "from mpl_toolkits.axes_grid1.anchored_artists import AnchoredDrawingArea\n",
    "from matplotlib.offsetbox import AnchoredText\n",
    "from mpl_toolkits.axes_grid1.anchored_artists import AnchoredAuxTransformBox\n",
    "from matplotlib.patches import Ellipse\n",
    "\n",
    "#fig, ax = plt.subplots(2,2,  gridspec_kw={'width_ratios': [1,1],'height_ratios': [.4,.4]},figsize=(14,7))\n",
    "fig, ax = plt.subplots(1,4,figsize=(25,3))\n",
    "\n",
    "X, Y   = GLCt1r, -1*EX_o2_e \n",
    "\n",
    "#-------------Neuronal Na$^{+}$ removal\n",
    "Z      = NaKt_Neuron\n",
    "cp     = ax[0].contourf(X, Y, Z, levels = 12)\n",
    "plt.colorbar(cp,ax=ax[0]).set_label('Neuronal Na$^{+}$ removal ($\\mu$M$\\cdot$s$^{-1}$)', size=10)\n",
    "bbox_props = dict(boxstyle=\"round4,pad=0.7\", fc=\"0.8\", ec=\"k\", lw=2)\n",
    "ax[0].plot([3.519], [32.407], 'o', color='red')\n",
    "ax[0].annotate('Model Na$^{+}$ removal: 116.998 ($\\mu$M$\\cdot$s$^{-1}$).\\n Experimentally reported: 117 ($\\mu$M$\\cdot$s$^{-1}$).', xy=(3.519, 32.407),  xycoords='data', xytext=(4, 50), textcoords='data', fontsize = 10, bbox=bbox_props,size=10,ha=\"center\", va=\"top\",\n",
    "                  arrowprops=dict(arrowstyle=\"fancy,head_length=1,head_width=1,tail_width=0.5\",fc=\"0.5\", ec=\"none\",shrinkB=5,connectionstyle=\"angle3,angleA=0,angleB=-90\"),\n",
    "                  horizontalalignment='right', verticalalignment='top',clip_on=False)\n",
    "\n",
    "#--------------Neuronal lactate influx \n",
    "Z    = L_LACt2r_Neuron\n",
    "cp   = ax[1].contourf(X, Y, Z,  levels = 12)\n",
    "plt.colorbar(cp,ax=ax[1]).set_label('Neuronal lactate influx ($\\mu$M$\\cdot$s$^{-1}$)', size=10)\n",
    "vbbox_props = dict(boxstyle=\"round4,pad=0.7\", fc=\"0.8\", ec=\"k\", lw=2)\n",
    "ax[1].plot([3.519], [32.407], 'o', color='red')\n",
    "ax[1].annotate('Lactate influx: 7.038 ($\\mu$M$\\cdot$s$^{-1}$).', xy=(3.519, 32.407),  xycoords='data', xytext=(4, 50), textcoords='data', fontsize = 10, bbox=bbox_props,size=10,ha=\"center\", va=\"top\",\n",
    "                  arrowprops=dict(arrowstyle=\"fancy,head_length=1,head_width=1,tail_width=0.5\",fc=\"0.5\", ec=\"none\",shrinkB=5,connectionstyle=\"angle3,angleA=0,angleB=-90\"),\n",
    "                  horizontalalignment='right', verticalalignment='top',clip_on=False)\n",
    "\n",
    "#---------------Neuronal glutamate efflux\n",
    "Z    = GLUVESSEC_Neuron\n",
    "cp   = ax[2].contourf(X, Y, Z, levels = 12)\n",
    "plt.colorbar(cp,ax=ax[2]).set_label('Neuronal glutamate efflux ($\\mu$M$\\cdot$s$^{-1}$)', size=10)\n",
    "vbbox_props = dict(boxstyle=\"round4,pad=0.7\", fc=\"0.8\", ec=\"k\", lw=2)\n",
    "ax[2].plot([3.519], [32.407], 'o', color='red')\n",
    "ax[2].annotate('Glutamate efflux: 4.222 ($\\mu$M$\\cdot$s$^{-1}$)', xy=(3.519, 32.407),  xycoords='data', xytext=(4, 50), textcoords='data', fontsize = 10, bbox=bbox_props,size=10,ha=\"center\", va=\"top\",\n",
    "                  arrowprops=dict(arrowstyle=\"fancy,head_length=1,head_width=1,tail_width=0.5\",fc=\"0.5\", ec=\"none\",shrinkB=5,connectionstyle=\"angle3,angleA=0,angleB=-90\"),\n",
    "                  horizontalalignment='right', verticalalignment='top',clip_on=False)\n",
    "\n",
    "#-------------------Yield O2/glc\n",
    "Z    = -1*EX_o2_e/(GLCt1r_Neuron+GLCt1r)#ATPS4m_Neuron/(GLCt1r_Neuron+GLCt1r)\n",
    "cp   = ax[3].contourf(X, Y, Z,  levels = 13)\n",
    "plt.colorbar(cp,ax=ax[3]).set_label('Y$_{O_2/Glucose}$ ($mol$$\\cdot$$mol$$^{-1}$)', size=12)\n",
    "vbbox_props = dict(boxstyle=\"round4,pad=0.7\", fc=\"0.8\", ec=\"k\", lw=2)\n",
    "ax[3].plot([3.519], [32.407], 'o', color='red')\n",
    "ax[3].annotate('O$_2$ per 1 consumed glucose: 6.0 ($mol$$\\cdot$$mol$$^{-1}$)', xy=(3.519, 32.407),  xycoords='data', xytext=(4, 50), textcoords='data', fontsize = 10, bbox=bbox_props,size=10,ha=\"center\", va=\"top\",\n",
    "                  arrowprops=dict(arrowstyle=\"fancy,head_length=1,head_width=1,tail_width=0.5\",fc=\"0.5\", ec=\"none\",shrinkB=5,connectionstyle=\"angle3,angleA=0,angleB=-90\"),\n",
    "                  horizontalalignment='right', verticalalignment='top',clip_on=False)\n",
    "# Set common labels\n",
    "fig.text(0.5, -0.06, 'Glucose uptake rate ($\\mu$M$\\cdot$s$^{-1}$)', ha='center', va='center', fontsize = 12)\n",
    "fig.text(0.1, 0.5, 'Oxygen uptake rate ($\\mu$M$\\cdot$s$^{-1}$)', ha='center', va='center', rotation='vertical', fontsize = 12)\n",
    "fig.savefig('hola.png',facecolor='w', edgecolor='w')"
   ]
  }
 ],
 "metadata": {
  "kernelspec": {
   "display_name": "Python 3",
   "language": "python",
   "name": "python3"
  },
  "language_info": {
   "codemirror_mode": {
    "name": "ipython",
    "version": 3
   },
   "file_extension": ".py",
   "mimetype": "text/x-python",
   "name": "python",
   "nbconvert_exporter": "python",
   "pygments_lexer": "ipython3",
   "version": "3.8.6"
  }
 },
 "nbformat": 4,
 "nbformat_minor": 4
}
